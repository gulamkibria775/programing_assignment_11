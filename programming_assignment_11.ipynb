{
 "cells": [
  {
   "cell_type": "markdown",
   "metadata": {},
   "source": [
    "1. Write a Python program to find words which are greater than given length k?"
   ]
  },
  {
   "cell_type": "code",
   "execution_count": 5,
   "metadata": {},
   "outputs": [
    {
     "name": "stdout",
     "output_type": "stream",
     "text": [
      "['Write', 'Python', 'program', 'words', 'which', 'greater', 'given', 'length.']\n"
     ]
    }
   ],
   "source": [
    "def string(str,l):\n",
    "    string=[]\n",
    "    text=str.split(\" \")\n",
    "    for x in text:\n",
    "        if len(x)>l:\n",
    "            string.append(x)\n",
    "    return string\n",
    "\n",
    "str='Write a Python program to find words which are greater than given length.'\n",
    "print(string(str,4))\n"
   ]
  },
  {
   "cell_type": "markdown",
   "metadata": {},
   "source": [
    "2. Write a Python program for removing i-th character from a string?"
   ]
  },
  {
   "cell_type": "code",
   "execution_count": 8,
   "metadata": {},
   "outputs": [
    {
     "name": "stdout",
     "output_type": "stream",
     "text": [
      "Write a ython program for removing i-th character from a string\n"
     ]
    }
   ],
   "source": [
    "def remove(string,j):\n",
    "    for i in range(len(string)):\n",
    "        if i==j:\n",
    "            string=string.replace(string[i],\"\",1)\n",
    "            \n",
    "    return string\n",
    "text=\"Write a Python program for removing i-th character from a string\" \n",
    "print(remove(text,8))"
   ]
  },
  {
   "cell_type": "markdown",
   "metadata": {},
   "source": [
    "3. Write a Python program to split and join a string?"
   ]
  },
  {
   "cell_type": "code",
   "execution_count": 13,
   "metadata": {},
   "outputs": [
    {
     "name": "stdout",
     "output_type": "stream",
     "text": [
      "['Python', 'program', 'to', 'split', 'and', 'join', 'a', 'string']\n"
     ]
    }
   ],
   "source": [
    "def split_string(string):\n",
    "    l=string.split(' ')\n",
    "    return l\n",
    "str=\"Python program to split and join a string\"   \n",
    "print(split_string(str))"
   ]
  },
  {
   "cell_type": "code",
   "execution_count": 14,
   "metadata": {},
   "outputs": [
    {
     "name": "stdout",
     "output_type": "stream",
     "text": [
      "P-y-t-h-o-n- -p-r-o-g-r-a-m- -t-o- -s-p-l-i-t- -a-n-d- -j-o-i-n- -a- -s-t-r-i-n-g\n"
     ]
    }
   ],
   "source": [
    "def join_string(string):\n",
    "    string='-'.join(string)\n",
    "    return string\n",
    "print(join_string(str))"
   ]
  },
  {
   "cell_type": "markdown",
   "metadata": {},
   "source": [
    "4. Write a Python to check if a given string is binary string or not?"
   ]
  },
  {
   "cell_type": "code",
   "execution_count": 46,
   "metadata": {},
   "outputs": [
    {
     "name": "stdout",
     "output_type": "stream",
     "text": [
      "binary string\n"
     ]
    }
   ],
   "source": [
    "def binary_string(string):\n",
    "    l=True\n",
    "    \n",
    "    for i in range(len(string)):\n",
    "        \n",
    "        if string[i]!='0' and string[i]!='1':\n",
    "           \n",
    "          \n",
    "            l=False\n",
    "            break\n",
    "            \n",
    "    return l        \n",
    "           \n",
    "            \n",
    "        \n",
    "    return        \n",
    "text='11111111111000011111010101010'\n",
    "if binary_string(text):\n",
    "    print(\"binary string\")\n",
    "else:\n",
    "    print(\"not binary\")"
   ]
  },
  {
   "cell_type": "markdown",
   "metadata": {},
   "source": [
    "5. Write a Python program to find uncommon words from two Strings?"
   ]
  },
  {
   "cell_type": "code",
   "execution_count": 52,
   "metadata": {},
   "outputs": [
    {
     "name": "stdout",
     "output_type": "stream",
     "text": [
      "['this', 'is', 'a']\n"
     ]
    }
   ],
   "source": [
    "def uncommon(list1,list2):\n",
    "    list3=[]\n",
    "    for i in list1.split(' '):\n",
    "        if i in list2.split(' '):\n",
    "            list3.append(i)\n",
    "            \n",
    "    return list3\n",
    "\n",
    "l1=\"this is a pen\"\n",
    "l2=\"this is a pencil\"\n",
    "print(uncommon(l1,l2))"
   ]
  },
  {
   "cell_type": "markdown",
   "metadata": {},
   "source": [
    "6. Write a Python to find all duplicate characters in string?"
   ]
  },
  {
   "cell_type": "code",
   "execution_count": 58,
   "metadata": {},
   "outputs": [
    {
     "name": "stdout",
     "output_type": "stream",
     "text": [
      "a\n",
      "s\n",
      "d\n",
      "e\n",
      "None\n"
     ]
    }
   ],
   "source": [
    "from collections import Counter\n",
    " \n",
    "def dup_char(string):\n",
    " \n",
    "    q = Counter(string)\n",
    "    for letter, count in q.items():\n",
    "        if (count > 1):\n",
    "            print(letter)\n",
    "            \n",
    "l1=\"aaaaasxssssdbnswssdeeeee\"    \n",
    "print(dup_char(l1))"
   ]
  },
  {
   "cell_type": "markdown",
   "metadata": {},
   "source": [
    "7. Write a Python Program to check if a string contains any special character?"
   ]
  },
  {
   "cell_type": "code",
   "execution_count": 61,
   "metadata": {},
   "outputs": [
    {
     "name": "stdout",
     "output_type": "stream",
     "text": [
      "String is not accepted.\n",
      "None\n"
     ]
    }
   ],
   "source": [
    "\n",
    "import re\n",
    " \n",
    "\n",
    "def run(string):\n",
    " \n",
    "   \n",
    "    regex = re.compile('[@_!#$%^&*()<>?/\\|}{~:]')\n",
    "     \n",
    "   \n",
    "    if(regex.search(string) == None):\n",
    "        print(\"String is accepted\")\n",
    "         \n",
    "    else:\n",
    "        print(\"String is not accepted.\")\n",
    "        \n",
    "l1=\"kamalmia5052@@gmail.com\"  \n",
    "print(run(l1))"
   ]
  },
  {
   "cell_type": "code",
   "execution_count": null,
   "metadata": {},
   "outputs": [],
   "source": []
  }
 ],
 "metadata": {
  "kernelspec": {
   "display_name": "Python 3",
   "language": "python",
   "name": "python3"
  },
  "language_info": {
   "codemirror_mode": {
    "name": "ipython",
    "version": 3
   },
   "file_extension": ".py",
   "mimetype": "text/x-python",
   "name": "python",
   "nbconvert_exporter": "python",
   "pygments_lexer": "ipython3",
   "version": "3.8.5"
  }
 },
 "nbformat": 4,
 "nbformat_minor": 4
}
